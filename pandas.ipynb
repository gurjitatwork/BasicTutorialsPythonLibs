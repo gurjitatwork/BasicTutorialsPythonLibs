{
 "cells": [
  {
   "cell_type": "code",
   "execution_count": 3,
   "metadata": {},
   "outputs": [],
   "source": [
    "# store data in form of dataframes(in form of tables)\n",
    "import pandas as pd\n",
    "import numpy as np"
   ]
  },
  {
   "cell_type": "code",
   "execution_count": 7,
   "metadata": {},
   "outputs": [
    {
     "data": {
      "text/html": [
       "<div>\n",
       "<style scoped>\n",
       "    .dataframe tbody tr th:only-of-type {\n",
       "        vertical-align: middle;\n",
       "    }\n",
       "\n",
       "    .dataframe tbody tr th {\n",
       "        vertical-align: top;\n",
       "    }\n",
       "\n",
       "    .dataframe thead th {\n",
       "        text-align: right;\n",
       "    }\n",
       "</style>\n",
       "<table border=\"1\" class=\"dataframe\">\n",
       "  <thead>\n",
       "    <tr style=\"text-align: right;\">\n",
       "      <th></th>\n",
       "      <th>a</th>\n",
       "      <th>b</th>\n",
       "      <th>c</th>\n",
       "      <th>d</th>\n",
       "    </tr>\n",
       "  </thead>\n",
       "  <tbody>\n",
       "    <tr>\n",
       "      <th>0</th>\n",
       "      <td>1.454455</td>\n",
       "      <td>-0.783485</td>\n",
       "      <td>-1.011931</td>\n",
       "      <td>0.292922</td>\n",
       "    </tr>\n",
       "    <tr>\n",
       "      <th>1</th>\n",
       "      <td>-0.026416</td>\n",
       "      <td>1.138252</td>\n",
       "      <td>-0.368039</td>\n",
       "      <td>-1.042379</td>\n",
       "    </tr>\n",
       "    <tr>\n",
       "      <th>2</th>\n",
       "      <td>-0.169337</td>\n",
       "      <td>0.702019</td>\n",
       "      <td>-0.383577</td>\n",
       "      <td>-0.267253</td>\n",
       "    </tr>\n",
       "    <tr>\n",
       "      <th>3</th>\n",
       "      <td>-0.265438</td>\n",
       "      <td>0.844342</td>\n",
       "      <td>0.205820</td>\n",
       "      <td>-0.189694</td>\n",
       "    </tr>\n",
       "    <tr>\n",
       "      <th>4</th>\n",
       "      <td>-2.980190</td>\n",
       "      <td>0.742411</td>\n",
       "      <td>0.694944</td>\n",
       "      <td>0.150763</td>\n",
       "    </tr>\n",
       "    <tr>\n",
       "      <th>5</th>\n",
       "      <td>1.114116</td>\n",
       "      <td>-0.623392</td>\n",
       "      <td>-1.433243</td>\n",
       "      <td>1.519250</td>\n",
       "    </tr>\n",
       "    <tr>\n",
       "      <th>6</th>\n",
       "      <td>0.824177</td>\n",
       "      <td>-0.146804</td>\n",
       "      <td>-2.033244</td>\n",
       "      <td>0.599043</td>\n",
       "    </tr>\n",
       "    <tr>\n",
       "      <th>7</th>\n",
       "      <td>-1.449461</td>\n",
       "      <td>1.933802</td>\n",
       "      <td>-0.467178</td>\n",
       "      <td>0.132502</td>\n",
       "    </tr>\n",
       "    <tr>\n",
       "      <th>8</th>\n",
       "      <td>1.465669</td>\n",
       "      <td>-1.160981</td>\n",
       "      <td>1.058050</td>\n",
       "      <td>0.515756</td>\n",
       "    </tr>\n",
       "    <tr>\n",
       "      <th>9</th>\n",
       "      <td>-0.817432</td>\n",
       "      <td>-1.972916</td>\n",
       "      <td>-1.905403</td>\n",
       "      <td>-1.082299</td>\n",
       "    </tr>\n",
       "  </tbody>\n",
       "</table>\n",
       "</div>"
      ],
      "text/plain": [
       "          a         b         c         d\n",
       "0  1.454455 -0.783485 -1.011931  0.292922\n",
       "1 -0.026416  1.138252 -0.368039 -1.042379\n",
       "2 -0.169337  0.702019 -0.383577 -0.267253\n",
       "3 -0.265438  0.844342  0.205820 -0.189694\n",
       "4 -2.980190  0.742411  0.694944  0.150763\n",
       "5  1.114116 -0.623392 -1.433243  1.519250\n",
       "6  0.824177 -0.146804 -2.033244  0.599043\n",
       "7 -1.449461  1.933802 -0.467178  0.132502\n",
       "8  1.465669 -1.160981  1.058050  0.515756\n",
       "9 -0.817432 -1.972916 -1.905403 -1.082299"
      ]
     },
     "execution_count": 7,
     "metadata": {},
     "output_type": "execute_result"
    }
   ],
   "source": [
    "# create dataframe using random\n",
    "df=pd.DataFrame(np.random.randn(10,4),columns=['a','b','c','d'])\n",
    "df"
   ]
  },
  {
   "cell_type": "code",
   "execution_count": 13,
   "metadata": {},
   "outputs": [
    {
     "data": {
      "text/html": [
       "<div>\n",
       "<style scoped>\n",
       "    .dataframe tbody tr th:only-of-type {\n",
       "        vertical-align: middle;\n",
       "    }\n",
       "\n",
       "    .dataframe tbody tr th {\n",
       "        vertical-align: top;\n",
       "    }\n",
       "\n",
       "    .dataframe thead th {\n",
       "        text-align: right;\n",
       "    }\n",
       "</style>\n",
       "<table border=\"1\" class=\"dataframe\">\n",
       "  <thead>\n",
       "    <tr style=\"text-align: right;\">\n",
       "      <th></th>\n",
       "      <th>A</th>\n",
       "      <th>B</th>\n",
       "    </tr>\n",
       "  </thead>\n",
       "  <tbody>\n",
       "    <tr>\n",
       "      <th>0</th>\n",
       "      <td>10</td>\n",
       "      <td>1</td>\n",
       "    </tr>\n",
       "    <tr>\n",
       "      <th>1</th>\n",
       "      <td>20</td>\n",
       "      <td>2</td>\n",
       "    </tr>\n",
       "    <tr>\n",
       "      <th>2</th>\n",
       "      <td>20</td>\n",
       "      <td>3</td>\n",
       "    </tr>\n",
       "    <tr>\n",
       "      <th>3</th>\n",
       "      <td>40</td>\n",
       "      <td>4</td>\n",
       "    </tr>\n",
       "  </tbody>\n",
       "</table>\n",
       "</div>"
      ],
      "text/plain": [
       "    A  B\n",
       "0  10  1\n",
       "1  20  2\n",
       "2  20  3\n",
       "3  40  4"
      ]
     },
     "execution_count": 13,
     "metadata": {},
     "output_type": "execute_result"
    }
   ],
   "source": [
    "#create dataframe using dictionary\n",
    "df_usingdict=pd.DataFrame({'A' : [10,20,20,40], 'B': [1,2,3,4]})\n",
    "df_usingdict"
   ]
  },
  {
   "cell_type": "code",
   "execution_count": 14,
   "metadata": {},
   "outputs": [
    {
     "data": {
      "text/plain": [
       "a    float64\n",
       "b    float64\n",
       "c    float64\n",
       "d    float64\n",
       "dtype: object"
      ]
     },
     "execution_count": 14,
     "metadata": {},
     "output_type": "execute_result"
    }
   ],
   "source": [
    "df.dtypes"
   ]
  },
  {
   "cell_type": "code",
   "execution_count": 15,
   "metadata": {},
   "outputs": [
    {
     "data": {
      "text/plain": [
       "Index(['a', 'b', 'c', 'd'], dtype='object')"
      ]
     },
     "execution_count": 15,
     "metadata": {},
     "output_type": "execute_result"
    }
   ],
   "source": [
    "df.columns"
   ]
  },
  {
   "cell_type": "code",
   "execution_count": 17,
   "metadata": {},
   "outputs": [
    {
     "data": {
      "text/plain": [
       "array([[ 1.45445498, -0.78348457, -1.01193071,  0.29292183],\n",
       "       [-0.02641598,  1.13825163, -0.3680392 , -1.04237862],\n",
       "       [-0.16933707,  0.70201897, -0.3835773 , -0.26725292],\n",
       "       [-0.26543768,  0.84434205,  0.20582027, -0.18969373],\n",
       "       [-2.98019032,  0.74241086,  0.69494442,  0.15076256],\n",
       "       [ 1.11411596, -0.62339168, -1.43324253,  1.51925028],\n",
       "       [ 0.8241765 , -0.14680435, -2.03324375,  0.5990429 ],\n",
       "       [-1.44946078,  1.93380189, -0.46717813,  0.13250176],\n",
       "       [ 1.46566927, -1.16098096,  1.05804988,  0.51575559],\n",
       "       [-0.81743178, -1.97291601, -1.90540317, -1.08229893]])"
      ]
     },
     "execution_count": 17,
     "metadata": {},
     "output_type": "execute_result"
    }
   ],
   "source": [
    "# give all values availble in numpy array\n",
    "df.values"
   ]
  },
  {
   "cell_type": "code",
   "execution_count": 18,
   "metadata": {},
   "outputs": [
    {
     "data": {
      "text/html": [
       "<div>\n",
       "<style scoped>\n",
       "    .dataframe tbody tr th:only-of-type {\n",
       "        vertical-align: middle;\n",
       "    }\n",
       "\n",
       "    .dataframe tbody tr th {\n",
       "        vertical-align: top;\n",
       "    }\n",
       "\n",
       "    .dataframe thead th {\n",
       "        text-align: right;\n",
       "    }\n",
       "</style>\n",
       "<table border=\"1\" class=\"dataframe\">\n",
       "  <thead>\n",
       "    <tr style=\"text-align: right;\">\n",
       "      <th></th>\n",
       "      <th>a</th>\n",
       "      <th>b</th>\n",
       "      <th>c</th>\n",
       "      <th>d</th>\n",
       "    </tr>\n",
       "  </thead>\n",
       "  <tbody>\n",
       "    <tr>\n",
       "      <th>0</th>\n",
       "      <td>1.454455</td>\n",
       "      <td>-0.783485</td>\n",
       "      <td>-1.011931</td>\n",
       "      <td>0.292922</td>\n",
       "    </tr>\n",
       "    <tr>\n",
       "      <th>1</th>\n",
       "      <td>-0.026416</td>\n",
       "      <td>1.138252</td>\n",
       "      <td>-0.368039</td>\n",
       "      <td>-1.042379</td>\n",
       "    </tr>\n",
       "    <tr>\n",
       "      <th>2</th>\n",
       "      <td>-0.169337</td>\n",
       "      <td>0.702019</td>\n",
       "      <td>-0.383577</td>\n",
       "      <td>-0.267253</td>\n",
       "    </tr>\n",
       "    <tr>\n",
       "      <th>3</th>\n",
       "      <td>-0.265438</td>\n",
       "      <td>0.844342</td>\n",
       "      <td>0.205820</td>\n",
       "      <td>-0.189694</td>\n",
       "    </tr>\n",
       "    <tr>\n",
       "      <th>4</th>\n",
       "      <td>-2.980190</td>\n",
       "      <td>0.742411</td>\n",
       "      <td>0.694944</td>\n",
       "      <td>0.150763</td>\n",
       "    </tr>\n",
       "  </tbody>\n",
       "</table>\n",
       "</div>"
      ],
      "text/plain": [
       "          a         b         c         d\n",
       "0  1.454455 -0.783485 -1.011931  0.292922\n",
       "1 -0.026416  1.138252 -0.368039 -1.042379\n",
       "2 -0.169337  0.702019 -0.383577 -0.267253\n",
       "3 -0.265438  0.844342  0.205820 -0.189694\n",
       "4 -2.980190  0.742411  0.694944  0.150763"
      ]
     },
     "execution_count": 18,
     "metadata": {},
     "output_type": "execute_result"
    }
   ],
   "source": [
    "df.head(5)"
   ]
  },
  {
   "cell_type": "code",
   "execution_count": 20,
   "metadata": {},
   "outputs": [
    {
     "data": {
      "text/plain": [
       "RangeIndex(start=0, stop=4, step=1)"
      ]
     },
     "execution_count": 20,
     "metadata": {},
     "output_type": "execute_result"
    }
   ],
   "source": [
    "df.index"
   ]
  },
  {
   "cell_type": "code",
   "execution_count": 22,
   "metadata": {},
   "outputs": [
    {
     "data": {
      "text/plain": [
       "a    10\n",
       "b    10\n",
       "c    10\n",
       "d    10\n",
       "dtype: int64"
      ]
     },
     "execution_count": 22,
     "metadata": {},
     "output_type": "execute_result"
    }
   ],
   "source": [
    "df.count()"
   ]
  },
  {
   "cell_type": "code",
   "execution_count": 25,
   "metadata": {},
   "outputs": [
    {
     "name": "stderr",
     "output_type": "stream",
     "text": [
      "/Users/gurjitsingh/anaconda3/lib/python3.6/site-packages/ipykernel_launcher.py:1: FutureWarning: by argument to sort_index is deprecated, please use .sort_values(by=...)\n",
      "  \"\"\"Entry point for launching an IPython kernel.\n"
     ]
    },
    {
     "data": {
      "text/html": [
       "<div>\n",
       "<style scoped>\n",
       "    .dataframe tbody tr th:only-of-type {\n",
       "        vertical-align: middle;\n",
       "    }\n",
       "\n",
       "    .dataframe tbody tr th {\n",
       "        vertical-align: top;\n",
       "    }\n",
       "\n",
       "    .dataframe thead th {\n",
       "        text-align: right;\n",
       "    }\n",
       "</style>\n",
       "<table border=\"1\" class=\"dataframe\">\n",
       "  <thead>\n",
       "    <tr style=\"text-align: right;\">\n",
       "      <th></th>\n",
       "      <th>a</th>\n",
       "      <th>b</th>\n",
       "      <th>c</th>\n",
       "      <th>d</th>\n",
       "    </tr>\n",
       "  </thead>\n",
       "  <tbody>\n",
       "    <tr>\n",
       "      <th>8</th>\n",
       "      <td>1.465669</td>\n",
       "      <td>-1.160981</td>\n",
       "      <td>1.058050</td>\n",
       "      <td>0.515756</td>\n",
       "    </tr>\n",
       "    <tr>\n",
       "      <th>0</th>\n",
       "      <td>1.454455</td>\n",
       "      <td>-0.783485</td>\n",
       "      <td>-1.011931</td>\n",
       "      <td>0.292922</td>\n",
       "    </tr>\n",
       "    <tr>\n",
       "      <th>5</th>\n",
       "      <td>1.114116</td>\n",
       "      <td>-0.623392</td>\n",
       "      <td>-1.433243</td>\n",
       "      <td>1.519250</td>\n",
       "    </tr>\n",
       "    <tr>\n",
       "      <th>6</th>\n",
       "      <td>0.824177</td>\n",
       "      <td>-0.146804</td>\n",
       "      <td>-2.033244</td>\n",
       "      <td>0.599043</td>\n",
       "    </tr>\n",
       "    <tr>\n",
       "      <th>1</th>\n",
       "      <td>-0.026416</td>\n",
       "      <td>1.138252</td>\n",
       "      <td>-0.368039</td>\n",
       "      <td>-1.042379</td>\n",
       "    </tr>\n",
       "    <tr>\n",
       "      <th>2</th>\n",
       "      <td>-0.169337</td>\n",
       "      <td>0.702019</td>\n",
       "      <td>-0.383577</td>\n",
       "      <td>-0.267253</td>\n",
       "    </tr>\n",
       "    <tr>\n",
       "      <th>3</th>\n",
       "      <td>-0.265438</td>\n",
       "      <td>0.844342</td>\n",
       "      <td>0.205820</td>\n",
       "      <td>-0.189694</td>\n",
       "    </tr>\n",
       "    <tr>\n",
       "      <th>9</th>\n",
       "      <td>-0.817432</td>\n",
       "      <td>-1.972916</td>\n",
       "      <td>-1.905403</td>\n",
       "      <td>-1.082299</td>\n",
       "    </tr>\n",
       "    <tr>\n",
       "      <th>7</th>\n",
       "      <td>-1.449461</td>\n",
       "      <td>1.933802</td>\n",
       "      <td>-0.467178</td>\n",
       "      <td>0.132502</td>\n",
       "    </tr>\n",
       "    <tr>\n",
       "      <th>4</th>\n",
       "      <td>-2.980190</td>\n",
       "      <td>0.742411</td>\n",
       "      <td>0.694944</td>\n",
       "      <td>0.150763</td>\n",
       "    </tr>\n",
       "  </tbody>\n",
       "</table>\n",
       "</div>"
      ],
      "text/plain": [
       "          a         b         c         d\n",
       "8  1.465669 -1.160981  1.058050  0.515756\n",
       "0  1.454455 -0.783485 -1.011931  0.292922\n",
       "5  1.114116 -0.623392 -1.433243  1.519250\n",
       "6  0.824177 -0.146804 -2.033244  0.599043\n",
       "1 -0.026416  1.138252 -0.368039 -1.042379\n",
       "2 -0.169337  0.702019 -0.383577 -0.267253\n",
       "3 -0.265438  0.844342  0.205820 -0.189694\n",
       "9 -0.817432 -1.972916 -1.905403 -1.082299\n",
       "7 -1.449461  1.933802 -0.467178  0.132502\n",
       "4 -2.980190  0.742411  0.694944  0.150763"
      ]
     },
     "execution_count": 25,
     "metadata": {},
     "output_type": "execute_result"
    }
   ],
   "source": [
    "df.sort_index(by='a',axis=0, ascending=False) # sorting vertically"
   ]
  },
  {
   "cell_type": "code",
   "execution_count": 26,
   "metadata": {},
   "outputs": [
    {
     "data": {
      "text/html": [
       "<div>\n",
       "<style scoped>\n",
       "    .dataframe tbody tr th:only-of-type {\n",
       "        vertical-align: middle;\n",
       "    }\n",
       "\n",
       "    .dataframe tbody tr th {\n",
       "        vertical-align: top;\n",
       "    }\n",
       "\n",
       "    .dataframe thead th {\n",
       "        text-align: right;\n",
       "    }\n",
       "</style>\n",
       "<table border=\"1\" class=\"dataframe\">\n",
       "  <thead>\n",
       "    <tr style=\"text-align: right;\">\n",
       "      <th></th>\n",
       "      <th>a</th>\n",
       "      <th>b</th>\n",
       "      <th>c</th>\n",
       "      <th>d</th>\n",
       "    </tr>\n",
       "  </thead>\n",
       "  <tbody>\n",
       "    <tr>\n",
       "      <th>0</th>\n",
       "      <td>1.454455</td>\n",
       "      <td>-0.783485</td>\n",
       "      <td>-1.011931</td>\n",
       "      <td>0.292922</td>\n",
       "    </tr>\n",
       "    <tr>\n",
       "      <th>1</th>\n",
       "      <td>-0.026416</td>\n",
       "      <td>1.138252</td>\n",
       "      <td>-0.368039</td>\n",
       "      <td>-1.042379</td>\n",
       "    </tr>\n",
       "    <tr>\n",
       "      <th>2</th>\n",
       "      <td>-0.169337</td>\n",
       "      <td>0.702019</td>\n",
       "      <td>-0.383577</td>\n",
       "      <td>-0.267253</td>\n",
       "    </tr>\n",
       "  </tbody>\n",
       "</table>\n",
       "</div>"
      ],
      "text/plain": [
       "          a         b         c         d\n",
       "0  1.454455 -0.783485 -1.011931  0.292922\n",
       "1 -0.026416  1.138252 -0.368039 -1.042379\n",
       "2 -0.169337  0.702019 -0.383577 -0.267253"
      ]
     },
     "execution_count": 26,
     "metadata": {},
     "output_type": "execute_result"
    }
   ],
   "source": [
    "df[0:3]"
   ]
  },
  {
   "cell_type": "code",
   "execution_count": 32,
   "metadata": {},
   "outputs": [
    {
     "data": {
      "text/html": [
       "<div>\n",
       "<style scoped>\n",
       "    .dataframe tbody tr th:only-of-type {\n",
       "        vertical-align: middle;\n",
       "    }\n",
       "\n",
       "    .dataframe tbody tr th {\n",
       "        vertical-align: top;\n",
       "    }\n",
       "\n",
       "    .dataframe thead th {\n",
       "        text-align: right;\n",
       "    }\n",
       "</style>\n",
       "<table border=\"1\" class=\"dataframe\">\n",
       "  <thead>\n",
       "    <tr style=\"text-align: right;\">\n",
       "      <th></th>\n",
       "      <th>a</th>\n",
       "      <th>b</th>\n",
       "    </tr>\n",
       "  </thead>\n",
       "  <tbody>\n",
       "    <tr>\n",
       "      <th>1</th>\n",
       "      <td>-0.026416</td>\n",
       "      <td>1.138252</td>\n",
       "    </tr>\n",
       "    <tr>\n",
       "      <th>2</th>\n",
       "      <td>-0.169337</td>\n",
       "      <td>0.702019</td>\n",
       "    </tr>\n",
       "    <tr>\n",
       "      <th>3</th>\n",
       "      <td>-0.265438</td>\n",
       "      <td>0.844342</td>\n",
       "    </tr>\n",
       "  </tbody>\n",
       "</table>\n",
       "</div>"
      ],
      "text/plain": [
       "          a         b\n",
       "1 -0.026416  1.138252\n",
       "2 -0.169337  0.702019\n",
       "3 -0.265438  0.844342"
      ]
     },
     "execution_count": 32,
     "metadata": {},
     "output_type": "execute_result"
    }
   ],
   "source": [
    "df.loc[1:3,['a','b']]"
   ]
  },
  {
   "cell_type": "code",
   "execution_count": 42,
   "metadata": {},
   "outputs": [
    {
     "data": {
      "text/html": [
       "<div>\n",
       "<style scoped>\n",
       "    .dataframe tbody tr th:only-of-type {\n",
       "        vertical-align: middle;\n",
       "    }\n",
       "\n",
       "    .dataframe tbody tr th {\n",
       "        vertical-align: top;\n",
       "    }\n",
       "\n",
       "    .dataframe thead th {\n",
       "        text-align: right;\n",
       "    }\n",
       "</style>\n",
       "<table border=\"1\" class=\"dataframe\">\n",
       "  <thead>\n",
       "    <tr style=\"text-align: right;\">\n",
       "      <th></th>\n",
       "      <th>a</th>\n",
       "      <th>b</th>\n",
       "      <th>c</th>\n",
       "      <th>d</th>\n",
       "    </tr>\n",
       "  </thead>\n",
       "  <tbody>\n",
       "    <tr>\n",
       "      <th>1</th>\n",
       "      <td>-0.026416</td>\n",
       "      <td>1.138252</td>\n",
       "      <td>-0.368039</td>\n",
       "      <td>-1.042379</td>\n",
       "    </tr>\n",
       "    <tr>\n",
       "      <th>2</th>\n",
       "      <td>-0.169337</td>\n",
       "      <td>0.702019</td>\n",
       "      <td>-0.383577</td>\n",
       "      <td>-0.267253</td>\n",
       "    </tr>\n",
       "  </tbody>\n",
       "</table>\n",
       "</div>"
      ],
      "text/plain": [
       "          a         b         c         d\n",
       "1 -0.026416  1.138252 -0.368039 -1.042379\n",
       "2 -0.169337  0.702019 -0.383577 -0.267253"
      ]
     },
     "execution_count": 42,
     "metadata": {},
     "output_type": "execute_result"
    }
   ],
   "source": [
    "df.iloc[1:3]"
   ]
  },
  {
   "cell_type": "code",
   "execution_count": 38,
   "metadata": {},
   "outputs": [
    {
     "data": {
      "text/plain": [
       "1.4544549770441146"
      ]
     },
     "execution_count": 38,
     "metadata": {},
     "output_type": "execute_result"
    }
   ],
   "source": [
    "df.at[0,'a']"
   ]
  },
  {
   "cell_type": "code",
   "execution_count": 44,
   "metadata": {},
   "outputs": [
    {
     "data": {
      "text/html": [
       "<div>\n",
       "<style scoped>\n",
       "    .dataframe tbody tr th:only-of-type {\n",
       "        vertical-align: middle;\n",
       "    }\n",
       "\n",
       "    .dataframe tbody tr th {\n",
       "        vertical-align: top;\n",
       "    }\n",
       "\n",
       "    .dataframe thead th {\n",
       "        text-align: right;\n",
       "    }\n",
       "</style>\n",
       "<table border=\"1\" class=\"dataframe\">\n",
       "  <thead>\n",
       "    <tr style=\"text-align: right;\">\n",
       "      <th></th>\n",
       "      <th>a</th>\n",
       "      <th>b</th>\n",
       "      <th>c</th>\n",
       "      <th>d</th>\n",
       "    </tr>\n",
       "  </thead>\n",
       "  <tbody>\n",
       "    <tr>\n",
       "      <th>0</th>\n",
       "      <td>1.454455</td>\n",
       "      <td>-0.783485</td>\n",
       "      <td>-1.011931</td>\n",
       "      <td>0.292922</td>\n",
       "    </tr>\n",
       "    <tr>\n",
       "      <th>5</th>\n",
       "      <td>1.114116</td>\n",
       "      <td>-0.623392</td>\n",
       "      <td>-1.433243</td>\n",
       "      <td>1.519250</td>\n",
       "    </tr>\n",
       "    <tr>\n",
       "      <th>8</th>\n",
       "      <td>1.465669</td>\n",
       "      <td>-1.160981</td>\n",
       "      <td>1.058050</td>\n",
       "      <td>0.515756</td>\n",
       "    </tr>\n",
       "  </tbody>\n",
       "</table>\n",
       "</div>"
      ],
      "text/plain": [
       "          a         b         c         d\n",
       "0  1.454455 -0.783485 -1.011931  0.292922\n",
       "5  1.114116 -0.623392 -1.433243  1.519250\n",
       "8  1.465669 -1.160981  1.058050  0.515756"
      ]
     },
     "execution_count": 44,
     "metadata": {},
     "output_type": "execute_result"
    }
   ],
   "source": [
    "df[df.a>1]"
   ]
  },
  {
   "cell_type": "code",
   "execution_count": 45,
   "metadata": {},
   "outputs": [
    {
     "data": {
      "text/html": [
       "<div>\n",
       "<style scoped>\n",
       "    .dataframe tbody tr th:only-of-type {\n",
       "        vertical-align: middle;\n",
       "    }\n",
       "\n",
       "    .dataframe tbody tr th {\n",
       "        vertical-align: top;\n",
       "    }\n",
       "\n",
       "    .dataframe thead th {\n",
       "        text-align: right;\n",
       "    }\n",
       "</style>\n",
       "<table border=\"1\" class=\"dataframe\">\n",
       "  <thead>\n",
       "    <tr style=\"text-align: right;\">\n",
       "      <th></th>\n",
       "      <th>a</th>\n",
       "      <th>b</th>\n",
       "      <th>c</th>\n",
       "      <th>d</th>\n",
       "    </tr>\n",
       "  </thead>\n",
       "  <tbody>\n",
       "    <tr>\n",
       "      <th>0</th>\n",
       "      <td>1.454455</td>\n",
       "      <td>-0.783485</td>\n",
       "      <td>-1.011931</td>\n",
       "      <td>0.292922</td>\n",
       "    </tr>\n",
       "    <tr>\n",
       "      <th>1</th>\n",
       "      <td>-0.026416</td>\n",
       "      <td>1.138252</td>\n",
       "      <td>-0.368039</td>\n",
       "      <td>-1.042379</td>\n",
       "    </tr>\n",
       "    <tr>\n",
       "      <th>2</th>\n",
       "      <td>-0.169337</td>\n",
       "      <td>0.702019</td>\n",
       "      <td>-0.383577</td>\n",
       "      <td>-0.267253</td>\n",
       "    </tr>\n",
       "    <tr>\n",
       "      <th>3</th>\n",
       "      <td>-0.265438</td>\n",
       "      <td>0.844342</td>\n",
       "      <td>0.205820</td>\n",
       "      <td>-0.189694</td>\n",
       "    </tr>\n",
       "    <tr>\n",
       "      <th>4</th>\n",
       "      <td>-2.980190</td>\n",
       "      <td>0.742411</td>\n",
       "      <td>0.694944</td>\n",
       "      <td>0.150763</td>\n",
       "    </tr>\n",
       "    <tr>\n",
       "      <th>5</th>\n",
       "      <td>1.114116</td>\n",
       "      <td>-0.623392</td>\n",
       "      <td>-1.433243</td>\n",
       "      <td>1.519250</td>\n",
       "    </tr>\n",
       "    <tr>\n",
       "      <th>6</th>\n",
       "      <td>0.824177</td>\n",
       "      <td>-0.146804</td>\n",
       "      <td>-2.033244</td>\n",
       "      <td>0.599043</td>\n",
       "    </tr>\n",
       "    <tr>\n",
       "      <th>7</th>\n",
       "      <td>-1.449461</td>\n",
       "      <td>1.933802</td>\n",
       "      <td>-0.467178</td>\n",
       "      <td>0.132502</td>\n",
       "    </tr>\n",
       "    <tr>\n",
       "      <th>8</th>\n",
       "      <td>1.465669</td>\n",
       "      <td>-1.160981</td>\n",
       "      <td>1.058050</td>\n",
       "      <td>0.515756</td>\n",
       "    </tr>\n",
       "    <tr>\n",
       "      <th>9</th>\n",
       "      <td>-0.817432</td>\n",
       "      <td>-1.972916</td>\n",
       "      <td>-1.905403</td>\n",
       "      <td>-1.082299</td>\n",
       "    </tr>\n",
       "  </tbody>\n",
       "</table>\n",
       "</div>"
      ],
      "text/plain": [
       "          a         b         c         d\n",
       "0  1.454455 -0.783485 -1.011931  0.292922\n",
       "1 -0.026416  1.138252 -0.368039 -1.042379\n",
       "2 -0.169337  0.702019 -0.383577 -0.267253\n",
       "3 -0.265438  0.844342  0.205820 -0.189694\n",
       "4 -2.980190  0.742411  0.694944  0.150763\n",
       "5  1.114116 -0.623392 -1.433243  1.519250\n",
       "6  0.824177 -0.146804 -2.033244  0.599043\n",
       "7 -1.449461  1.933802 -0.467178  0.132502\n",
       "8  1.465669 -1.160981  1.058050  0.515756\n",
       "9 -0.817432 -1.972916 -1.905403 -1.082299"
      ]
     },
     "execution_count": 45,
     "metadata": {},
     "output_type": "execute_result"
    }
   ],
   "source": [
    "df.dropna()"
   ]
  },
  {
   "cell_type": "code",
   "execution_count": 47,
   "metadata": {},
   "outputs": [
    {
     "data": {
      "text/html": [
       "<div>\n",
       "<style scoped>\n",
       "    .dataframe tbody tr th:only-of-type {\n",
       "        vertical-align: middle;\n",
       "    }\n",
       "\n",
       "    .dataframe tbody tr th {\n",
       "        vertical-align: top;\n",
       "    }\n",
       "\n",
       "    .dataframe thead th {\n",
       "        text-align: right;\n",
       "    }\n",
       "</style>\n",
       "<table border=\"1\" class=\"dataframe\">\n",
       "  <thead>\n",
       "    <tr style=\"text-align: right;\">\n",
       "      <th></th>\n",
       "      <th>a</th>\n",
       "      <th>b</th>\n",
       "      <th>c</th>\n",
       "      <th>d</th>\n",
       "    </tr>\n",
       "  </thead>\n",
       "  <tbody>\n",
       "    <tr>\n",
       "      <th>0</th>\n",
       "      <td>1.454455</td>\n",
       "      <td>-0.783485</td>\n",
       "      <td>-1.011931</td>\n",
       "      <td>0.292922</td>\n",
       "    </tr>\n",
       "    <tr>\n",
       "      <th>1</th>\n",
       "      <td>-0.026416</td>\n",
       "      <td>1.138252</td>\n",
       "      <td>-0.368039</td>\n",
       "      <td>-1.042379</td>\n",
       "    </tr>\n",
       "    <tr>\n",
       "      <th>2</th>\n",
       "      <td>-0.169337</td>\n",
       "      <td>0.702019</td>\n",
       "      <td>-0.383577</td>\n",
       "      <td>-0.267253</td>\n",
       "    </tr>\n",
       "    <tr>\n",
       "      <th>3</th>\n",
       "      <td>-0.265438</td>\n",
       "      <td>0.844342</td>\n",
       "      <td>0.205820</td>\n",
       "      <td>-0.189694</td>\n",
       "    </tr>\n",
       "    <tr>\n",
       "      <th>4</th>\n",
       "      <td>-2.980190</td>\n",
       "      <td>0.742411</td>\n",
       "      <td>0.694944</td>\n",
       "      <td>0.150763</td>\n",
       "    </tr>\n",
       "    <tr>\n",
       "      <th>5</th>\n",
       "      <td>1.114116</td>\n",
       "      <td>-0.623392</td>\n",
       "      <td>-1.433243</td>\n",
       "      <td>1.519250</td>\n",
       "    </tr>\n",
       "    <tr>\n",
       "      <th>6</th>\n",
       "      <td>0.824177</td>\n",
       "      <td>-0.146804</td>\n",
       "      <td>-2.033244</td>\n",
       "      <td>0.599043</td>\n",
       "    </tr>\n",
       "    <tr>\n",
       "      <th>7</th>\n",
       "      <td>-1.449461</td>\n",
       "      <td>1.933802</td>\n",
       "      <td>-0.467178</td>\n",
       "      <td>0.132502</td>\n",
       "    </tr>\n",
       "    <tr>\n",
       "      <th>8</th>\n",
       "      <td>1.465669</td>\n",
       "      <td>-1.160981</td>\n",
       "      <td>1.058050</td>\n",
       "      <td>0.515756</td>\n",
       "    </tr>\n",
       "    <tr>\n",
       "      <th>9</th>\n",
       "      <td>-0.817432</td>\n",
       "      <td>-1.972916</td>\n",
       "      <td>-1.905403</td>\n",
       "      <td>-1.082299</td>\n",
       "    </tr>\n",
       "  </tbody>\n",
       "</table>\n",
       "</div>"
      ],
      "text/plain": [
       "          a         b         c         d\n",
       "0  1.454455 -0.783485 -1.011931  0.292922\n",
       "1 -0.026416  1.138252 -0.368039 -1.042379\n",
       "2 -0.169337  0.702019 -0.383577 -0.267253\n",
       "3 -0.265438  0.844342  0.205820 -0.189694\n",
       "4 -2.980190  0.742411  0.694944  0.150763\n",
       "5  1.114116 -0.623392 -1.433243  1.519250\n",
       "6  0.824177 -0.146804 -2.033244  0.599043\n",
       "7 -1.449461  1.933802 -0.467178  0.132502\n",
       "8  1.465669 -1.160981  1.058050  0.515756\n",
       "9 -0.817432 -1.972916 -1.905403 -1.082299"
      ]
     },
     "execution_count": 47,
     "metadata": {},
     "output_type": "execute_result"
    }
   ],
   "source": [
    "df.fillna(value=1)"
   ]
  },
  {
   "cell_type": "code",
   "execution_count": 49,
   "metadata": {},
   "outputs": [
    {
     "data": {
      "text/plain": [
       "0   -0.012010\n",
       "1   -0.074646\n",
       "2   -0.029537\n",
       "3    0.148758\n",
       "4   -0.348018\n",
       "5    0.144183\n",
       "6   -0.189207\n",
       "7    0.037416\n",
       "8    0.469623\n",
       "9   -1.444512\n",
       "dtype: float64"
      ]
     },
     "execution_count": 49,
     "metadata": {},
     "output_type": "execute_result"
    }
   ],
   "source": [
    "df.mean(axis=1)"
   ]
  },
  {
   "cell_type": "code",
   "execution_count": null,
   "metadata": {},
   "outputs": [],
   "source": []
  }
 ],
 "metadata": {
  "kernelspec": {
   "display_name": "Python 3",
   "language": "python",
   "name": "python3"
  },
  "language_info": {
   "codemirror_mode": {
    "name": "ipython",
    "version": 3
   },
   "file_extension": ".py",
   "mimetype": "text/x-python",
   "name": "python",
   "nbconvert_exporter": "python",
   "pygments_lexer": "ipython3",
   "version": "3.6.4"
  }
 },
 "nbformat": 4,
 "nbformat_minor": 2
}
